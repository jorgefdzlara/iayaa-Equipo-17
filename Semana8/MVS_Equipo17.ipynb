{
  "nbformat": 4,
  "nbformat_minor": 0,
  "metadata": {
    "colab": {
      "provenance": [],
      "authorship_tag": "ABX9TyNiX1EAvNGwPEss9Ta9L+oX",
      "include_colab_link": true
    },
    "kernelspec": {
      "name": "python3",
      "display_name": "Python 3"
    },
    "language_info": {
      "name": "python"
    }
  },
  "cells": [
    {
      "cell_type": "markdown",
      "metadata": {
        "id": "view-in-github",
        "colab_type": "text"
      },
      "source": [
        "<a href=\"https://colab.research.google.com/github/jorgefdzlara/iayaa-Equipo-17/blob/main/MVS_Equipo17.ipynb\" target=\"_parent\"><img src=\"https://colab.research.google.com/assets/colab-badge.svg\" alt=\"Open In Colab\"/></a>"
      ]
    },
    {
      "cell_type": "markdown",
      "source": [
        "#**Maestría en Inteligencia Artificial Aplicada**\n",
        "##**Curso: Inteligencia Artificial y Aprendizaje Automático**\n",
        "###Tecnológico de Monterrey\n",
        "###Prof Luis Eduardo Falcón Morales\n",
        "\n",
        "## **Adtividad de la Semana 8**\n",
        "###**Máquina de vector de soporte.**"
      ],
      "metadata": {
        "id": "nmYSalK-_ywG"
      }
    },
    {
      "cell_type": "markdown",
      "source": [
        "**Nombres y matrículas de los integrantes del equipo:**\n",
        "\n",
        "* Esperón Carreón José Eduardo A01372413\n",
        "* Fernández Lara Jorge A01793062\n",
        "* Hernández Ramos Joel Orlando A00759664\n",
        "* Romo Cárdenas Juan Carlos A00260430\n",
        "* Torres Cantú David Alejandro A00818002"
      ],
      "metadata": {
        "id": "we_lNkC4_6Rw"
      }
    },
    {
      "cell_type": "markdown",
      "source": [
        "En cada sección deberás incluir todas las líneas de código necesarias para responder a cada uno de los ejercicios."
      ],
      "metadata": {
        "id": "h8X8I0ul_9fZ"
      }
    },
    {
      "cell_type": "code",
      "source": [
        "# Incluye aquí todos módulos, librerías y paquetes que requieras.\n",
        "import numpy as np\n",
        "import pandas as pd\n",
        "import seaborn as sns\n",
        "import sklearn\n",
        "from sklearn import datasets\n",
        "from sklearn import svm\n",
        "import matplotlib.pyplot as plt"
      ],
      "metadata": {
        "id": "PBgVtprVA5bG"
      },
      "execution_count": 2,
      "outputs": []
    },
    {
      "cell_type": "markdown",
      "source": [
        "Se trabajará con el conjunto de datos conocido como \"Australian credit approval\", un problema de\n",
        "clasificación que ya has estudiado en semanas previas y cuyos datos puedes encontrar en la siguiente\n",
        "liga del repositorio de la UCI:\n",
        "https://archive.ics.uci.edu/ml/datasets/Statlog+%28Australian+Credit+Approval%29\n",
        "El objetivo es determinar si se autoriza una tarjeta de crédito dada cierta información del solicitante. En\n",
        "la página de la UCI encuentras mayor información sobre el problema."
      ],
      "metadata": {
        "id": "MihAG-pUAOJX"
      }
    },
    {
      "cell_type": "markdown",
      "source": [
        "1. Realiza una partición de los datos con 15% en el conjunto de prueba y el resto para entrenamiento y\n",
        "validación. Usa un random_state=0."
      ],
      "metadata": {
        "id": "ux73aIyTAQU0"
      }
    },
    {
      "cell_type": "markdown",
      "source": [
        "2. Hacer una análisis de los datos y llevar a cabo las transformaciones que consideres adecuadas.\n",
        "Utiliza un Pipeline para evitar el filtrado de información."
      ],
      "metadata": {
        "id": "dli2IjETAUJW"
      }
    },
    {
      "cell_type": "markdown",
      "source": [
        "3. Utiliza la función Dummy para modelos de clasificación con la estrategia “stratified” con el conjunto\n",
        "que tienes de datos de entrenamiento y validación. Obtener los valores de partida (baseline) de las\n",
        "siguientes métricas: accuracy, f1-score, precision y recall. ¿Por qué consideras que es adecuado usar\n",
        "la estrategia “stratified” en este caso?"
      ],
      "metadata": {
        "id": "VaWbemW2AZPL"
      }
    },
    {
      "cell_type": "markdown",
      "source": [
        "4. Usando el modelo de máquina de vector soporte (SVM) encuentra sus mejores hiperparámetros\n",
        "con una búsqueda de malla y validación cruzada, desplegando los errores indicados en el ejercicio\n",
        "anterior."
      ],
      "metadata": {
        "id": "XFlMKaxKAcQ1"
      }
    },
    {
      "cell_type": "markdown",
      "source": [
        "5. Obtener además los diagramas de caja y bigote del mejor modelo con todas las métricas calculadas.\n",
        "Incluye tus conclusiones."
      ],
      "metadata": {
        "id": "l_vateqEAgLc"
      }
    },
    {
      "cell_type": "markdown",
      "source": [
        "6. Verifica que el modelo no esté subentrenado o sobreentrenado mediante alguna de las gráficas de\n",
        "curvas de entrenamiento (aumentando la complejidad o aumentando el conjunto de entrenamiento,\n",
        "la que consideres más adecuada). De ser necesario, realiza los ajustes necesarios para evitar alguno\n",
        "de estos problemas."
      ],
      "metadata": {
        "id": "hxfKzOc9Aipu"
      }
    },
    {
      "cell_type": "markdown",
      "source": [
        "7. Con los mejores hiperparámetros entontrados encontrar la gráfica de la curva ROC y su área bajo la\n",
        "curva."
      ],
      "metadata": {
        "id": "FJLXer3OAku9"
      }
    },
    {
      "cell_type": "markdown",
      "source": [
        "8. Encontrar el valor del mejor umbral de predicción del modelo que maximice el valor de la métrica\n",
        "f1-score."
      ],
      "metadata": {
        "id": "7BWbZTEW_yW-"
      }
    },
    {
      "cell_type": "markdown",
      "source": [
        "9. Encontrar el valor del mejor umbral de predicción del modelo que maximice el valor de la métrica gmean."
      ],
      "metadata": {
        "id": "Yl4uIoaOAqyG"
      }
    },
    {
      "cell_type": "markdown",
      "source": [
        "10. Incluye tus conclusiones finales de la actividad."
      ],
      "metadata": {
        "id": "wY0fE1F_AstL"
      }
    },
    {
      "cell_type": "code",
      "source": [],
      "metadata": {
        "id": "yqIIlGQvAwHF"
      },
      "execution_count": null,
      "outputs": []
    }
  ]
}
